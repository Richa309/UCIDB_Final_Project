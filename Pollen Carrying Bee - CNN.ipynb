{
 "cells": [
  {
   "cell_type": "code",
   "execution_count": 1,
   "metadata": {},
   "outputs": [
    {
     "name": "stderr",
     "output_type": "stream",
     "text": [
      "C:\\Users\\DTY\\Anaconda3\\envs\\PythonData\\lib\\site-packages\\h5py\\__init__.py:36: FutureWarning: Conversion of the second argument of issubdtype from `float` to `np.floating` is deprecated. In future, it will be treated as `np.float64 == np.dtype(float).type`.\n",
      "  from ._conv import register_converters as _register_converters\n",
      "Using TensorFlow backend.\n"
     ]
    }
   ],
   "source": [
    "%matplotlib inline\n",
    "# Import Dependencies\n",
    "import matplotlib.pyplot as plt\n",
    "import pandas as pd\n",
    "import os\n",
    "import numpy as np\n",
    "\n",
    "import keras\n",
    "from keras.preprocessing import image"
   ]
  },
  {
   "cell_type": "code",
   "execution_count": 2,
   "metadata": {},
   "outputs": [],
   "source": [
    "# Keras\n",
    "from keras.models import Sequential\n",
    "from keras.layers import Dense, Conv2D, Dropout, Flatten, MaxPooling2D\n",
    "from keras.optimizers import Adam\n",
    "from keras.wrappers.scikit_learn import KerasClassifier\n",
    "from keras.models import load_model"
   ]
  },
  {
   "cell_type": "code",
   "execution_count": 3,
   "metadata": {},
   "outputs": [
    {
     "data": {
      "text/html": [
       "<div>\n",
       "<style scoped>\n",
       "    .dataframe tbody tr th:only-of-type {\n",
       "        vertical-align: middle;\n",
       "    }\n",
       "\n",
       "    .dataframe tbody tr th {\n",
       "        vertical-align: top;\n",
       "    }\n",
       "\n",
       "    .dataframe thead th {\n",
       "        text-align: right;\n",
       "    }\n",
       "</style>\n",
       "<table border=\"1\" class=\"dataframe\">\n",
       "  <thead>\n",
       "    <tr style=\"text-align: right;\">\n",
       "      <th></th>\n",
       "      <th>Unnamed: 0</th>\n",
       "      <th>filename</th>\n",
       "      <th>pollen_carrying</th>\n",
       "    </tr>\n",
       "  </thead>\n",
       "  <tbody>\n",
       "    <tr>\n",
       "      <th>0</th>\n",
       "      <td>0</td>\n",
       "      <td>P10057-125r.jpg</td>\n",
       "      <td>1</td>\n",
       "    </tr>\n",
       "    <tr>\n",
       "      <th>1</th>\n",
       "      <td>1</td>\n",
       "      <td>P57380-120r.jpg</td>\n",
       "      <td>1</td>\n",
       "    </tr>\n",
       "    <tr>\n",
       "      <th>2</th>\n",
       "      <td>2</td>\n",
       "      <td>NP63671-221r.jpg</td>\n",
       "      <td>0</td>\n",
       "    </tr>\n",
       "    <tr>\n",
       "      <th>3</th>\n",
       "      <td>3</td>\n",
       "      <td>NP53776-47r.jpg</td>\n",
       "      <td>0</td>\n",
       "    </tr>\n",
       "    <tr>\n",
       "      <th>4</th>\n",
       "      <td>4</td>\n",
       "      <td>NP13382-201r.jpg</td>\n",
       "      <td>0</td>\n",
       "    </tr>\n",
       "  </tbody>\n",
       "</table>\n",
       "</div>"
      ],
      "text/plain": [
       "   Unnamed: 0          filename  pollen_carrying\n",
       "0           0   P10057-125r.jpg                1\n",
       "1           1   P57380-120r.jpg                1\n",
       "2           2  NP63671-221r.jpg                0\n",
       "3           3   NP53776-47r.jpg                0\n",
       "4           4  NP13382-201r.jpg                0"
      ]
     },
     "execution_count": 3,
     "metadata": {},
     "output_type": "execute_result"
    }
   ],
   "source": [
    "# Read the dataset\n",
    "bee_data = pd.read_csv(os.path.join('..', 'PollenDataset','pollen_data.csv'))\n",
    "bee_data.head()"
   ]
  },
  {
   "cell_type": "markdown",
   "metadata": {},
   "source": [
    "### Bee images"
   ]
  },
  {
   "cell_type": "code",
   "execution_count": 4,
   "metadata": {},
   "outputs": [],
   "source": [
    "# Function to load the images of bees and their identification (result) in respective arrays \n",
    "def x_and_y(bee_data):\n",
    "    img_list = []\n",
    "    pollen_list = []\n",
    "    data = []\n",
    "    for image_file, pollen_info in zip(bee_data['filename'], bee_data['pollen_carrying']):\n",
    "        image_path = os.path.join(\"..\", 'PollenDataset', 'images', image_file)\n",
    "        img = image.load_img(image_path, target_size= (32, 32))\n",
    "        x_img = image.img_to_array(img)\n",
    "        img_list.append(x_img)\n",
    "        pollen_list.append(pollen_info)\n",
    "    \n",
    "    return (np.array(img_list, dtype=\"float\") / 255.0), np.array(pollen_list)"
   ]
  },
  {
   "cell_type": "code",
   "execution_count": 5,
   "metadata": {},
   "outputs": [
    {
     "name": "stdout",
     "output_type": "stream",
     "text": [
      "(714, 32, 32, 3) (714,)\n"
     ]
    }
   ],
   "source": [
    "# X and y\n",
    "X, y= x_and_y(bee_data)\n",
    "print(X.shape, y.shape)"
   ]
  },
  {
   "cell_type": "code",
   "execution_count": 6,
   "metadata": {},
   "outputs": [
    {
     "name": "stdout",
     "output_type": "stream",
     "text": [
      "(571, 32, 32, 3) (143, 32, 32, 3) (571,) (143,)\n"
     ]
    }
   ],
   "source": [
    "# Split the data into train and test data\n",
    "from sklearn.model_selection import train_test_split\n",
    "\n",
    "X_train, X_test, y_train, y_test = train_test_split(X, y, test_size = 0.20, random_state=1, stratify=y)\n",
    "print(X_train.shape, X_test.shape, y_train.shape, y_test.shape)"
   ]
  },
  {
   "cell_type": "code",
   "execution_count": 7,
   "metadata": {
    "scrolled": true
   },
   "outputs": [
    {
     "name": "stdout",
     "output_type": "stream",
     "text": [
      "_________________________________________________________________\n",
      "Layer (type)                 Output Shape              Param #   \n",
      "=================================================================\n",
      "conv2d_1 (Conv2D)            (None, 32, 32, 32)        896       \n",
      "_________________________________________________________________\n",
      "conv2d_2 (Conv2D)            (None, 32, 32, 64)        18496     \n",
      "_________________________________________________________________\n",
      "max_pooling2d_1 (MaxPooling2 (None, 16, 16, 64)        0         \n",
      "_________________________________________________________________\n",
      "dropout_1 (Dropout)          (None, 16, 16, 64)        0         \n",
      "_________________________________________________________________\n",
      "conv2d_3 (Conv2D)            (None, 16, 16, 128)       73856     \n",
      "_________________________________________________________________\n",
      "max_pooling2d_2 (MaxPooling2 (None, 8, 8, 128)         0         \n",
      "_________________________________________________________________\n",
      "conv2d_4 (Conv2D)            (None, 8, 8, 128)         147584    \n",
      "_________________________________________________________________\n",
      "max_pooling2d_3 (MaxPooling2 (None, 4, 4, 128)         0         \n",
      "_________________________________________________________________\n",
      "dropout_2 (Dropout)          (None, 4, 4, 128)         0         \n",
      "_________________________________________________________________\n",
      "flatten_1 (Flatten)          (None, 2048)              0         \n",
      "_________________________________________________________________\n",
      "dense_1 (Dense)              (None, 1024)              2098176   \n",
      "_________________________________________________________________\n",
      "dropout_3 (Dropout)          (None, 1024)              0         \n",
      "_________________________________________________________________\n",
      "dense_2 (Dense)              (None, 1)                 1025      \n",
      "=================================================================\n",
      "Total params: 2,340,033\n",
      "Trainable params: 2,340,033\n",
      "Non-trainable params: 0\n",
      "_________________________________________________________________\n"
     ]
    }
   ],
   "source": [
    "# CNN Model\n",
    "\n",
    "cnn = Sequential()\n",
    "\n",
    "cnn.add(Conv2D(32, (3,3), padding='same', input_shape=(32,32,3), activation = 'relu'))\n",
    "cnn.add(Conv2D(64, (3,3), padding='same', activation = 'relu'))\n",
    "cnn.add(MaxPooling2D(pool_size=(2,2)))\n",
    "cnn.add(Dropout(0.25))\n",
    "\n",
    "cnn.add(Conv2D(128, (3,3), padding='same', activation = 'relu'))\n",
    "cnn.add(MaxPooling2D(pool_size=(2,2)))\n",
    "\n",
    "cnn.add(Conv2D(128, (3,3), padding='same', activation = 'relu'))\n",
    "cnn.add(MaxPooling2D(pool_size=(2,2)))\n",
    "cnn.add(Dropout(0.25))\n",
    "\n",
    "cnn.add(Flatten())     \n",
    "\n",
    "cnn.add(Dense(1024, activation = 'relu'))\n",
    "cnn.add(Dropout(0.5))\n",
    "\n",
    "cnn.add(Dense(1, activation = 'sigmoid'))\n",
    "\n",
    "cnn.compile(loss='binary_crossentropy', optimizer='rmsprop', metrics=['accuracy'])\n",
    "\n",
    "cnn.summary()"
   ]
  },
  {
   "cell_type": "code",
   "execution_count": 8,
   "metadata": {},
   "outputs": [
    {
     "name": "stdout",
     "output_type": "stream",
     "text": [
      "Epoch 1/50\n",
      " - 13s - loss: 0.8107 - acc: 0.5131\n",
      "Epoch 2/50\n",
      " - 12s - loss: 0.6597 - acc: 0.6357\n",
      "Epoch 3/50\n",
      " - 12s - loss: 0.5872 - acc: 0.7093\n",
      "Epoch 4/50\n",
      " - 11s - loss: 0.3831 - acc: 0.8476\n",
      "Epoch 5/50\n",
      " - 12s - loss: 0.2645 - acc: 0.8722\n",
      "Epoch 6/50\n",
      " - 11s - loss: 0.1966 - acc: 0.9177\n",
      "Epoch 7/50\n",
      " - 12s - loss: 0.1592 - acc: 0.9370\n",
      "Epoch 8/50\n",
      " - 11s - loss: 0.1434 - acc: 0.9422\n",
      "Epoch 9/50\n",
      " - 12s - loss: 0.1192 - acc: 0.9457\n",
      "Epoch 10/50\n",
      " - 11s - loss: 0.0921 - acc: 0.9720\n",
      "Epoch 11/50\n",
      " - 12s - loss: 0.0812 - acc: 0.9650\n",
      "Epoch 12/50\n",
      " - 11s - loss: 0.0619 - acc: 0.9807\n",
      "Epoch 13/50\n",
      " - 12s - loss: 0.0443 - acc: 0.9895\n",
      "Epoch 14/50\n",
      " - 11s - loss: 0.0477 - acc: 0.9825\n",
      "Epoch 15/50\n",
      " - 11s - loss: 0.0259 - acc: 0.9912\n",
      "Epoch 16/50\n",
      " - 11s - loss: 0.0320 - acc: 0.9842\n",
      "Epoch 17/50\n",
      " - 12s - loss: 0.0413 - acc: 0.9860\n",
      "Epoch 18/50\n",
      " - 11s - loss: 0.0220 - acc: 0.9930\n",
      "Epoch 19/50\n",
      " - 12s - loss: 0.0323 - acc: 0.9842\n",
      "Epoch 20/50\n",
      " - 11s - loss: 0.0110 - acc: 0.9930\n",
      "Epoch 21/50\n",
      " - 12s - loss: 0.0180 - acc: 0.9912\n",
      "Epoch 22/50\n",
      " - 12s - loss: 0.0106 - acc: 0.9965\n",
      "Epoch 23/50\n",
      " - 12s - loss: 0.0224 - acc: 0.9930\n",
      "Epoch 24/50\n",
      " - 12s - loss: 0.0024 - acc: 1.0000\n",
      "Epoch 25/50\n",
      " - 11s - loss: 0.0187 - acc: 0.9930\n",
      "Epoch 26/50\n",
      " - 12s - loss: 0.0011 - acc: 1.0000\n",
      "Epoch 27/50\n",
      " - 11s - loss: 0.0345 - acc: 0.9912\n",
      "Epoch 28/50\n",
      " - 12s - loss: 0.0091 - acc: 0.9965\n",
      "Epoch 29/50\n",
      " - 13s - loss: 0.0042 - acc: 0.9982\n",
      "Epoch 30/50\n",
      " - 12s - loss: 5.2342e-04 - acc: 1.0000\n",
      "Epoch 31/50\n",
      " - 12s - loss: 0.0196 - acc: 0.9912\n",
      "Epoch 32/50\n",
      " - 12s - loss: 0.0155 - acc: 0.9965\n",
      "Epoch 33/50\n",
      " - 12s - loss: 0.0017 - acc: 1.0000\n",
      "Epoch 34/50\n",
      " - 12s - loss: 5.1489e-04 - acc: 1.0000\n",
      "Epoch 35/50\n",
      " - 11s - loss: 0.0212 - acc: 0.9912\n",
      "Epoch 36/50\n",
      " - 12s - loss: 7.4362e-04 - acc: 1.0000\n",
      "Epoch 37/50\n",
      " - 13s - loss: 0.0128 - acc: 0.9965\n",
      "Epoch 38/50\n",
      " - 13s - loss: 0.0151 - acc: 0.9965\n",
      "Epoch 39/50\n",
      " - 12s - loss: 0.0012 - acc: 1.0000\n",
      "Epoch 40/50\n",
      " - 12s - loss: 5.6632e-04 - acc: 1.0000\n",
      "Epoch 41/50\n",
      " - 12s - loss: 7.1662e-05 - acc: 1.0000\n",
      "Epoch 42/50\n",
      " - 11s - loss: 5.5848e-05 - acc: 1.0000\n",
      "Epoch 43/50\n",
      " - 12s - loss: 3.4731e-06 - acc: 1.0000\n",
      "Epoch 44/50\n",
      " - 12s - loss: 0.0425 - acc: 0.9930\n",
      "Epoch 45/50\n",
      " - 11s - loss: 0.0164 - acc: 0.9965\n",
      "Epoch 46/50\n",
      " - 12s - loss: 0.0048 - acc: 0.9982\n",
      "Epoch 47/50\n",
      " - 12s - loss: 0.0182 - acc: 0.9912\n",
      "Epoch 48/50\n",
      " - 12s - loss: 0.0016 - acc: 1.0000\n",
      "Epoch 49/50\n",
      " - 12s - loss: 0.0802 - acc: 0.9895\n",
      "Epoch 50/50\n",
      " - 12s - loss: 0.0016 - acc: 1.0000\n"
     ]
    }
   ],
   "source": [
    "# Fit (train) the model\n",
    "H = cnn.fit(\n",
    "    X_train,\n",
    "    y_train,\n",
    "    epochs=50,\n",
    "    shuffle=True,\n",
    "    verbose=2\n",
    ")"
   ]
  },
  {
   "cell_type": "code",
   "execution_count": 18,
   "metadata": {},
   "outputs": [
    {
     "data": {
      "image/png": "[encoded data removed]",
      "text/plain": [
       "<Figure size 432x288 with 1 Axes>"
      ]
     },
     "metadata": {},
     "output_type": "display_data"
    }
   ],
   "source": [
    "# Plot the Training loss and accuracy result\n",
    "plt.style.use(\"ggplot\")\n",
    "plt.figure()\n",
    "N = 50\n",
    "plt.plot(np.arange(0, N), H.history[\"loss\"], label=\"train_loss\")\n",
    "plt.plot(np.arange(0, N), H.history[\"acc\"], label=\"train_acc\")\n",
    "plt.title(\"Training Loss and Accuracy\")\n",
    "plt.xlabel(\"Epoch #\")\n",
    "plt.ylabel(\"Loss/Accuracy\")\n",
    "plt.legend(loc=\"upper left\")\n",
    "plt.savefig(\"Model accuracy.png\")\n",
    "plt.show()"
   ]
  },
  {
   "cell_type": "code",
   "execution_count": 10,
   "metadata": {},
   "outputs": [
    {
     "name": "stdout",
     "output_type": "stream",
     "text": [
      "Loss: 0.3609125912059229, Accuracy: 0.951048951048951\n"
     ]
    }
   ],
   "source": [
    "# Evaluate the model using the test data \n",
    "model_loss, model_accuracy = cnn.evaluate(X_test, y_test, verbose=2)\n",
    "print(f\"Loss: {model_loss}, Accuracy: {model_accuracy}\")"
   ]
  },
  {
   "cell_type": "markdown",
   "metadata": {},
   "source": [
    "### Save the model"
   ]
  },
  {
   "cell_type": "code",
   "execution_count": 11,
   "metadata": {},
   "outputs": [],
   "source": [
    "# Save the model\n",
    "cnn.save(\"pollen_carrying_bee_cnn.h5\")"
   ]
  },
  {
   "cell_type": "markdown",
   "metadata": {},
   "source": [
    "### Load the model"
   ]
  },
  {
   "cell_type": "code",
   "execution_count": 12,
   "metadata": {},
   "outputs": [],
   "source": [
    "model = load_model(\"pollen_carrying_bee_cnn.h5\")"
   ]
  },
  {
   "cell_type": "markdown",
   "metadata": {},
   "source": [
    "### Making Predictions"
   ]
  },
  {
   "cell_type": "code",
   "execution_count": 13,
   "metadata": {},
   "outputs": [
    {
     "data": {
      "text/plain": [
       "(1, 32, 32, 3)"
      ]
     },
     "execution_count": 13,
     "metadata": {},
     "output_type": "execute_result"
    }
   ],
   "source": [
    "new_path = os.path.join(\"..\", 'PollenDataset', 'images', \"P9755-119r.jpg\")\n",
    "new_image = image.load_img(new_path, target_size= (32, 32))\n",
    "new_img = image.img_to_array(new_image)\n",
    "new_img = new_img.reshape((1,) + new_img.shape) \n",
    "new_img.shape"
   ]
  },
  {
   "cell_type": "code",
   "execution_count": 24,
   "metadata": {},
   "outputs": [
    {
     "name": "stdout",
     "output_type": "stream",
     "text": [
      "The bee is carrying pollen.\n"
     ]
    }
   ],
   "source": [
    "yclass = model.predict_classes(new_img)[0][0]\n",
    "\n",
    "if yclass == 1:\n",
    "    print(\"The bee is carrying pollen.\")\n",
    "else:\n",
    "    print(\"The bee is not carrying pollen.\")"
   ]
  }
 ],
 "metadata": {
  "kernelspec": {
   "display_name": "Python 3",
   "language": "python",
   "name": "python3"
  },
  "language_info": {
   "codemirror_mode": {
    "name": "ipython",
    "version": 3
   },
   "file_extension": ".py",
   "mimetype": "text/x-python",
   "name": "python",
   "nbconvert_exporter": "python",
   "pygments_lexer": "ipython3",
   "version": "3.6.5"
  }
 },
 "nbformat": 4,
 "nbformat_minor": 2
}
